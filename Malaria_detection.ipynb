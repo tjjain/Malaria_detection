{
  "nbformat": 4,
  "nbformat_minor": 0,
  "metadata": {
    "kernelspec": {
      "display_name": "Python 3",
      "language": "python",
      "name": "python3"
    },
    "language_info": {
      "codemirror_mode": {
        "name": "ipython",
        "version": 3
      },
      "file_extension": ".py",
      "mimetype": "text/x-python",
      "name": "python",
      "nbconvert_exporter": "python",
      "pygments_lexer": "ipython3",
      "version": "3.8.3"
    },
    "colab": {
      "name": "Malaria_detection.ipynb",
      "provenance": []
    },
    "accelerator": "GPU"
  },
  "cells": [
    {
      "cell_type": "code",
      "metadata": {
        "id": "Slmzw-NH-6QG"
      },
      "source": [
        "import numpy as np\n",
        "from keras.layers import *\n",
        "from keras.models import *\n",
        "from keras.preprocessing import image\n",
        "import keras"
      ],
      "execution_count": 1,
      "outputs": []
    },
    {
      "cell_type": "code",
      "metadata": {
        "id": "DUO59YrM-6QP"
      },
      "source": [
        "import matplotlib.pyplot as plt"
      ],
      "execution_count": 2,
      "outputs": []
    },
    {
      "cell_type": "code",
      "metadata": {
        "id": "29WPKLJL-6QW"
      },
      "source": [
        "Train_path = './Dataset/Train/'\n",
        "Test_path = './Dataset/Test/'"
      ],
      "execution_count": 3,
      "outputs": []
    },
    {
      "cell_type": "code",
      "metadata": {
        "id": "yHcErIGSBZdQ",
        "outputId": "9f030b23-1548-49f4-dc7c-56dd2ce12a53",
        "colab": {
          "base_uri": "https://localhost:8080/"
        }
      },
      "source": [
        "!unzip Dataset.zip"
      ],
      "execution_count": 4,
      "outputs": [
        {
          "output_type": "stream",
          "text": [
            "Archive:  Dataset.zip\n",
            "   creating: Dataset/Test/\n",
            "   creating: Dataset/Test/Parasite/\n",
            " extracting: Dataset/Test/Parasite/C39P4thinF_original_IMG_20150622_105554_cell_10.png  \n",
            " extracting: Dataset/Test/Parasite/C39P4thinF_original_IMG_20150622_105554_cell_11.png  \n",
            "  inflating: Dataset/Test/Parasite/C39P4thinF_original_IMG_20150622_105554_cell_12.png  \n",
            " extracting: Dataset/Test/Parasite/C39P4thinF_original_IMG_20150622_105554_cell_13.png  \n",
            " extracting: Dataset/Test/Parasite/C39P4thinF_original_IMG_20150622_105554_cell_14.png  \n",
            "  inflating: Dataset/Test/Parasite/C39P4thinF_original_IMG_20150622_105554_cell_15.png  \n",
            " extracting: Dataset/Test/Parasite/C39P4thinF_original_IMG_20150622_105554_cell_16.png  \n",
            " extracting: Dataset/Test/Parasite/C39P4thinF_original_IMG_20150622_105554_cell_17.png  \n",
            " extracting: Dataset/Test/Parasite/C39P4thinF_original_IMG_20150622_105554_cell_18.png  \n",
            " extracting: Dataset/Test/Parasite/C39P4thinF_original_IMG_20150622_105554_cell_19.png  \n",
            " extracting: Dataset/Test/Parasite/C39P4thinF_original_IMG_20150622_105554_cell_20.png  \n",
            " extracting: Dataset/Test/Parasite/C39P4thinF_original_IMG_20150622_105554_cell_21.png  \n",
            " extracting: Dataset/Test/Parasite/C39P4thinF_original_IMG_20150622_105554_cell_22.png  \n",
            " extracting: Dataset/Test/Parasite/C39P4thinF_original_IMG_20150622_105554_cell_23.png  \n",
            " extracting: Dataset/Test/Parasite/C39P4thinF_original_IMG_20150622_105554_cell_24.png  \n",
            " extracting: Dataset/Test/Parasite/C39P4thinF_original_IMG_20150622_105554_cell_25.png  \n",
            " extracting: Dataset/Test/Parasite/C39P4thinF_original_IMG_20150622_105554_cell_26.png  \n",
            " extracting: Dataset/Test/Parasite/C39P4thinF_original_IMG_20150622_105554_cell_9.png  \n",
            " extracting: Dataset/Test/Parasite/C39P4thinF_original_IMG_20150622_105803_cell_100.png  \n",
            " extracting: Dataset/Test/Parasite/C39P4thinF_original_IMG_20150622_105803_cell_101.png  \n",
            " extracting: Dataset/Test/Parasite/C39P4thinF_original_IMG_20150622_105803_cell_102.png  \n",
            " extracting: Dataset/Test/Parasite/C39P4thinF_original_IMG_20150622_105803_cell_103.png  \n",
            " extracting: Dataset/Test/Parasite/C39P4thinF_original_IMG_20150622_105803_cell_104.png  \n",
            " extracting: Dataset/Test/Parasite/C39P4thinF_original_IMG_20150622_105803_cell_105.png  \n",
            " extracting: Dataset/Test/Parasite/C39P4thinF_original_IMG_20150622_105803_cell_106.png  \n",
            " extracting: Dataset/Test/Parasite/C39P4thinF_original_IMG_20150622_105803_cell_107.png  \n",
            " extracting: Dataset/Test/Parasite/C39P4thinF_original_IMG_20150622_105803_cell_108.png  \n",
            " extracting: Dataset/Test/Parasite/C39P4thinF_original_IMG_20150622_105803_cell_109.png  \n",
            " extracting: Dataset/Test/Parasite/C39P4thinF_original_IMG_20150622_105803_cell_110.png  \n",
            " extracting: Dataset/Test/Parasite/C39P4thinF_original_IMG_20150622_105803_cell_111.png  \n",
            " extracting: Dataset/Test/Parasite/C39P4thinF_original_IMG_20150622_105803_cell_112.png  \n",
            " extracting: Dataset/Test/Parasite/C39P4thinF_original_IMG_20150622_105803_cell_78.png  \n",
            " extracting: Dataset/Test/Parasite/C39P4thinF_original_IMG_20150622_105803_cell_79.png  \n",
            " extracting: Dataset/Test/Parasite/C39P4thinF_original_IMG_20150622_105803_cell_80.png  \n",
            " extracting: Dataset/Test/Parasite/C39P4thinF_original_IMG_20150622_105803_cell_81.png  \n",
            " extracting: Dataset/Test/Parasite/C39P4thinF_original_IMG_20150622_105803_cell_82.png  \n",
            " extracting: Dataset/Test/Parasite/C39P4thinF_original_IMG_20150622_105803_cell_83.png  \n",
            " extracting: Dataset/Test/Parasite/C39P4thinF_original_IMG_20150622_105803_cell_84.png  \n",
            " extracting: Dataset/Test/Parasite/C39P4thinF_original_IMG_20150622_105803_cell_85.png  \n",
            " extracting: Dataset/Test/Parasite/C39P4thinF_original_IMG_20150622_105803_cell_86.png  \n",
            " extracting: Dataset/Test/Parasite/C39P4thinF_original_IMG_20150622_105803_cell_87.png  \n",
            " extracting: Dataset/Test/Parasite/C39P4thinF_original_IMG_20150622_105803_cell_88.png  \n",
            " extracting: Dataset/Test/Parasite/C39P4thinF_original_IMG_20150622_105803_cell_89.png  \n",
            " extracting: Dataset/Test/Parasite/C39P4thinF_original_IMG_20150622_105803_cell_90.png  \n",
            " extracting: Dataset/Test/Parasite/C39P4thinF_original_IMG_20150622_105803_cell_91.png  \n",
            " extracting: Dataset/Test/Parasite/C39P4thinF_original_IMG_20150622_105803_cell_92.png  \n",
            " extracting: Dataset/Test/Parasite/C39P4thinF_original_IMG_20150622_105803_cell_93.png  \n",
            " extracting: Dataset/Test/Parasite/C39P4thinF_original_IMG_20150622_105803_cell_94.png  \n",
            " extracting: Dataset/Test/Parasite/C39P4thinF_original_IMG_20150622_105803_cell_95.png  \n",
            " extracting: Dataset/Test/Parasite/C39P4thinF_original_IMG_20150622_105803_cell_96.png  \n",
            " extracting: Dataset/Test/Parasite/C39P4thinF_original_IMG_20150622_105803_cell_97.png  \n",
            " extracting: Dataset/Test/Parasite/C39P4thinF_original_IMG_20150622_105803_cell_98.png  \n",
            " extracting: Dataset/Test/Parasite/C39P4thinF_original_IMG_20150622_105803_cell_99.png  \n",
            " extracting: Dataset/Test/Parasite/C39P4thinF_original_IMG_20150622_110115_cell_104.png  \n",
            " extracting: Dataset/Test/Parasite/C39P4thinF_original_IMG_20150622_110115_cell_105.png  \n",
            " extracting: Dataset/Test/Parasite/C39P4thinF_original_IMG_20150622_110115_cell_106.png  \n",
            " extracting: Dataset/Test/Parasite/C39P4thinF_original_IMG_20150622_110115_cell_107.png  \n",
            " extracting: Dataset/Test/Parasite/C39P4thinF_original_IMG_20150622_110115_cell_108.png  \n",
            " extracting: Dataset/Test/Parasite/C39P4thinF_original_IMG_20150622_110115_cell_109.png  \n",
            " extracting: Dataset/Test/Parasite/C39P4thinF_original_IMG_20150622_110115_cell_110.png  \n",
            " extracting: Dataset/Test/Parasite/C39P4thinF_original_IMG_20150622_110115_cell_111.png  \n",
            " extracting: Dataset/Test/Parasite/C39P4thinF_original_IMG_20150622_110115_cell_112.png  \n",
            " extracting: Dataset/Test/Parasite/C39P4thinF_original_IMG_20150622_110115_cell_113.png  \n",
            " extracting: Dataset/Test/Parasite/C39P4thinF_original_IMG_20150622_110115_cell_114.png  \n",
            " extracting: Dataset/Test/Parasite/C39P4thinF_original_IMG_20150622_110115_cell_115.png  \n",
            " extracting: Dataset/Test/Parasite/C39P4thinF_original_IMG_20150622_110115_cell_116.png  \n",
            " extracting: Dataset/Test/Parasite/C39P4thinF_original_IMG_20150622_110115_cell_117.png  \n",
            " extracting: Dataset/Test/Parasite/C39P4thinF_original_IMG_20150622_110115_cell_118.png  \n",
            " extracting: Dataset/Test/Parasite/C39P4thinF_original_IMG_20150622_110115_cell_119.png  \n",
            " extracting: Dataset/Test/Parasite/C39P4thinF_original_IMG_20150622_110115_cell_120.png  \n",
            " extracting: Dataset/Test/Parasite/C39P4thinF_original_IMG_20150622_110115_cell_121.png  \n",
            " extracting: Dataset/Test/Parasite/C39P4thinF_original_IMG_20150622_110115_cell_122.png  \n",
            " extracting: Dataset/Test/Parasite/C39P4thinF_original_IMG_20150622_110115_cell_123.png  \n",
            " extracting: Dataset/Test/Parasite/C39P4thinF_original_IMG_20150622_110115_cell_124.png  \n",
            " extracting: Dataset/Test/Parasite/C39P4thinF_original_IMG_20150622_110115_cell_125.png  \n",
            " extracting: Dataset/Test/Parasite/C39P4thinF_original_IMG_20150622_110115_cell_126.png  \n",
            " extracting: Dataset/Test/Parasite/C39P4thinF_original_IMG_20150622_110115_cell_127.png  \n",
            " extracting: Dataset/Test/Parasite/C39P4thinF_original_IMG_20150622_110115_cell_128.png  \n",
            " extracting: Dataset/Test/Parasite/C39P4thinF_original_IMG_20150622_110115_cell_129.png  \n",
            " extracting: Dataset/Test/Parasite/C39P4thinF_original_IMG_20150622_110115_cell_130.png  \n",
            " extracting: Dataset/Test/Parasite/C39P4thinF_original_IMG_20150622_110115_cell_131.png  \n",
            " extracting: Dataset/Test/Parasite/C39P4thinF_original_IMG_20150622_110115_cell_132.png  \n",
            " extracting: Dataset/Test/Parasite/C39P4thinF_original_IMG_20150622_110115_cell_133.png  \n",
            " extracting: Dataset/Test/Parasite/C39P4thinF_original_IMG_20150622_110115_cell_134.png  \n",
            " extracting: Dataset/Test/Parasite/C39P4thinF_original_IMG_20150622_110115_cell_135.png  \n",
            " extracting: Dataset/Test/Parasite/C39P4thinF_original_IMG_20150622_110115_cell_136.png  \n",
            " extracting: Dataset/Test/Parasite/C39P4thinF_original_IMG_20150622_110115_cell_137.png  \n",
            " extracting: Dataset/Test/Parasite/C39P4thinF_original_IMG_20150622_110115_cell_138.png  \n",
            " extracting: Dataset/Test/Parasite/C39P4thinF_original_IMG_20150622_110352_cell_78.png  \n",
            " extracting: Dataset/Test/Parasite/C39P4thinF_original_IMG_20150622_110352_cell_79.png  \n",
            " extracting: Dataset/Test/Parasite/C39P4thinF_original_IMG_20150622_110352_cell_80.png  \n",
            "   creating: Dataset/Test/Uninfected/\n",
            " extracting: Dataset/Test/Uninfected/2.png  \n",
            " extracting: Dataset/Test/Uninfected/C3thin_original_IMG_20150608_162922_cell_145.png  \n",
            " extracting: Dataset/Test/Uninfected/C3thin_original_IMG_20150608_162922_cell_191.png  \n",
            " extracting: Dataset/Test/Uninfected/C3thin_original_IMG_20150608_162922_cell_205.png  \n",
            " extracting: Dataset/Test/Uninfected/C3thin_original_IMG_20150608_162922_cell_211.png  \n",
            " extracting: Dataset/Test/Uninfected/C3thin_original_IMG_20150608_162922_cell_217.png  \n",
            " extracting: Dataset/Test/Uninfected/C3thin_original_IMG_20150608_163002_cell_13.png  \n",
            " extracting: Dataset/Test/Uninfected/C3thin_original_IMG_20150608_163002_cell_144.png  \n",
            " extracting: Dataset/Test/Uninfected/C3thin_original_IMG_20150608_163002_cell_146.png  \n",
            " extracting: Dataset/Test/Uninfected/C3thin_original_IMG_20150608_163002_cell_159.png  \n",
            " extracting: Dataset/Test/Uninfected/C3thin_original_IMG_20150608_163002_cell_195.png  \n",
            " extracting: Dataset/Test/Uninfected/C3thin_original_IMG_20150608_163002_cell_32.png  \n",
            " extracting: Dataset/Test/Uninfected/C3thin_original_IMG_20150608_163002_cell_34.png  \n",
            " extracting: Dataset/Test/Uninfected/C3thin_original_IMG_20150608_163002_cell_39.png  \n",
            " extracting: Dataset/Test/Uninfected/C3thin_original_IMG_20150608_163002_cell_63.png  \n",
            " extracting: Dataset/Test/Uninfected/C3thin_original_IMG_20150608_163002_cell_78.png  \n",
            " extracting: Dataset/Test/Uninfected/C3thin_original_IMG_20150608_163002_cell_81.png  \n",
            " extracting: Dataset/Test/Uninfected/C3thin_original_IMG_20150608_163002_cell_88.png  \n",
            " extracting: Dataset/Test/Uninfected/C3thin_original_IMG_20150608_163002_cell_93.png  \n",
            " extracting: Dataset/Test/Uninfected/C3thin_original_IMG_20150608_163002_cell_97.png  \n",
            " extracting: Dataset/Test/Uninfected/C3thin_original_IMG_20150608_163029_cell_1.png  \n",
            " extracting: Dataset/Test/Uninfected/C3thin_original_IMG_20150608_163029_cell_109.png  \n",
            " extracting: Dataset/Test/Uninfected/C3thin_original_IMG_20150608_163029_cell_121.png  \n",
            " extracting: Dataset/Test/Uninfected/C3thin_original_IMG_20150608_163029_cell_125.png  \n",
            " extracting: Dataset/Test/Uninfected/C3thin_original_IMG_20150608_163029_cell_156.png  \n",
            " extracting: Dataset/Test/Uninfected/C3thin_original_IMG_20150608_163029_cell_166.png  \n",
            " extracting: Dataset/Test/Uninfected/C3thin_original_IMG_20150608_163029_cell_186.png  \n",
            " extracting: Dataset/Test/Uninfected/C3thin_original_IMG_20150608_163029_cell_202.png  \n",
            " extracting: Dataset/Test/Uninfected/C3thin_original_IMG_20150608_163029_cell_220.png  \n",
            " extracting: Dataset/Test/Uninfected/C3thin_original_IMG_20150608_163029_cell_44.png  \n",
            " extracting: Dataset/Test/Uninfected/C3thin_original_IMG_20150608_163029_cell_52.png  \n",
            " extracting: Dataset/Test/Uninfected/C3thin_original_IMG_20150608_163029_cell_57.png  \n",
            " extracting: Dataset/Test/Uninfected/C3thin_original_IMG_20150608_163029_cell_80.png  \n",
            " extracting: Dataset/Test/Uninfected/C3thin_original_IMG_20150608_163029_cell_83.png  \n",
            " extracting: Dataset/Test/Uninfected/C3thin_original_IMG_20150608_163047_cell_103.png  \n",
            " extracting: Dataset/Test/Uninfected/C3thin_original_IMG_20150608_163047_cell_145.png  \n",
            " extracting: Dataset/Test/Uninfected/C3thin_original_IMG_20150608_163047_cell_147.png  \n",
            " extracting: Dataset/Test/Uninfected/C3thin_original_IMG_20150608_163047_cell_161.png  \n",
            " extracting: Dataset/Test/Uninfected/C3thin_original_IMG_20150608_163047_cell_168.png  \n",
            " extracting: Dataset/Test/Uninfected/C3thin_original_IMG_20150608_163047_cell_183.png  \n",
            " extracting: Dataset/Test/Uninfected/C3thin_original_IMG_20150608_163047_cell_22.png  \n",
            " extracting: Dataset/Test/Uninfected/C3thin_original_IMG_20150608_163047_cell_26.png  \n",
            " extracting: Dataset/Test/Uninfected/C3thin_original_IMG_20150608_163047_cell_36.png  \n",
            "   creating: Dataset/Train/\n",
            "   creating: Dataset/Train/Parasite/\n",
            " extracting: Dataset/Train/Parasite/C133P94ThinF_IMG_20151004_155721_cell_111.png  \n",
            " extracting: Dataset/Train/Parasite/C133P94ThinF_IMG_20151004_155721_cell_112.png  \n",
            " extracting: Dataset/Train/Parasite/C133P94ThinF_IMG_20151004_155721_cell_113.png  \n",
            " extracting: Dataset/Train/Parasite/C133P94ThinF_IMG_20151004_155721_cell_114.png  \n",
            " extracting: Dataset/Train/Parasite/C133P94ThinF_IMG_20151004_155721_cell_115.png  \n",
            " extracting: Dataset/Train/Parasite/C133P94ThinF_IMG_20151004_155721_cell_116.png  \n",
            " extracting: Dataset/Train/Parasite/C133P94ThinF_IMG_20151004_155721_cell_117.png  \n",
            " extracting: Dataset/Train/Parasite/C133P94ThinF_IMG_20151004_155721_cell_118.png  \n",
            " extracting: Dataset/Train/Parasite/C133P94ThinF_IMG_20151004_155721_cell_119.png  \n",
            " extracting: Dataset/Train/Parasite/C133P94ThinF_IMG_20151004_155721_cell_120.png  \n",
            " extracting: Dataset/Train/Parasite/C133P94ThinF_IMG_20151004_155721_cell_121.png  \n",
            "  inflating: Dataset/Train/Parasite/C133P94ThinF_IMG_20151004_155721_cell_122.png  \n",
            " extracting: Dataset/Train/Parasite/C133P94ThinF_IMG_20151004_155721_cell_123.png  \n",
            "  inflating: Dataset/Train/Parasite/C133P94ThinF_IMG_20151004_155721_cell_124.png  \n",
            " extracting: Dataset/Train/Parasite/C133P94ThinF_IMG_20151004_155912_cell_1.png  \n",
            " extracting: Dataset/Train/Parasite/C133P94ThinF_IMG_20151004_155912_cell_10.png  \n",
            " extracting: Dataset/Train/Parasite/C133P94ThinF_IMG_20151004_155912_cell_11.png  \n",
            " extracting: Dataset/Train/Parasite/C133P94ThinF_IMG_20151004_155912_cell_12.png  \n",
            " extracting: Dataset/Train/Parasite/C133P94ThinF_IMG_20151004_155912_cell_13.png  \n",
            " extracting: Dataset/Train/Parasite/C133P94ThinF_IMG_20151004_155912_cell_14.png  \n",
            " extracting: Dataset/Train/Parasite/C133P94ThinF_IMG_20151004_155912_cell_15.png  \n",
            " extracting: Dataset/Train/Parasite/C133P94ThinF_IMG_20151004_155912_cell_16.png  \n",
            " extracting: Dataset/Train/Parasite/C133P94ThinF_IMG_20151004_155912_cell_17.png  \n",
            " extracting: Dataset/Train/Parasite/C133P94ThinF_IMG_20151004_155912_cell_18.png  \n",
            " extracting: Dataset/Train/Parasite/C133P94ThinF_IMG_20151004_155912_cell_19.png  \n",
            " extracting: Dataset/Train/Parasite/C133P94ThinF_IMG_20151004_155912_cell_2.png  \n",
            " extracting: Dataset/Train/Parasite/C133P94ThinF_IMG_20151004_155912_cell_20.png  \n",
            " extracting: Dataset/Train/Parasite/C133P94ThinF_IMG_20151004_155912_cell_3.png  \n",
            " extracting: Dataset/Train/Parasite/C133P94ThinF_IMG_20151004_155912_cell_4.png  \n",
            " extracting: Dataset/Train/Parasite/C133P94ThinF_IMG_20151004_155912_cell_5.png  \n",
            " extracting: Dataset/Train/Parasite/C133P94ThinF_IMG_20151004_155912_cell_6.png  \n",
            " extracting: Dataset/Train/Parasite/C133P94ThinF_IMG_20151004_155912_cell_7.png  \n",
            " extracting: Dataset/Train/Parasite/C133P94ThinF_IMG_20151004_155912_cell_8.png  \n",
            " extracting: Dataset/Train/Parasite/C133P94ThinF_IMG_20151004_155912_cell_9.png  \n",
            " extracting: Dataset/Train/Parasite/C134P95ThinF_IMG_20151005_121048_cell_112.png  \n",
            " extracting: Dataset/Train/Parasite/C134P95ThinF_IMG_20151005_121048_cell_113.png  \n",
            " extracting: Dataset/Train/Parasite/C134P95ThinF_IMG_20151005_121343_cell_122.png  \n",
            " extracting: Dataset/Train/Parasite/C134P95ThinF_IMG_20151005_121343_cell_123.png  \n",
            " extracting: Dataset/Train/Parasite/C134P95ThinF_IMG_20151005_121343_cell_124.png  \n",
            " extracting: Dataset/Train/Parasite/C134P95ThinF_IMG_20151005_121425_cell_127.png  \n",
            " extracting: Dataset/Train/Parasite/C134P95ThinF_IMG_20151005_121554_cell_121.png  \n",
            " extracting: Dataset/Train/Parasite/C134P95ThinF_IMG_20151005_121554_cell_122.png  \n",
            " extracting: Dataset/Train/Parasite/C134P95ThinF_IMG_20151005_121656_cell_104.png  \n",
            " extracting: Dataset/Train/Parasite/C134P95ThinF_IMG_20151005_121656_cell_105.png  \n",
            " extracting: Dataset/Train/Parasite/C134P95ThinF_IMG_20151005_121834_cell_120.png  \n",
            "  inflating: Dataset/Train/Parasite/C134P95ThinF_IMG_20151005_121834_cell_121.png  \n",
            " extracting: Dataset/Train/Parasite/C134P95ThinF_IMG_20151005_121834_cell_122.png  \n",
            " extracting: Dataset/Train/Parasite/C134P95ThinF_IMG_20151005_121834_cell_123.png  \n",
            " extracting: Dataset/Train/Parasite/C134P95ThinF_IMG_20151005_121952_cell_120.png  \n",
            " extracting: Dataset/Train/Parasite/C134P95ThinF_IMG_20151005_121952_cell_121.png  \n",
            " extracting: Dataset/Train/Parasite/C134P95ThinF_IMG_20151005_121952_cell_122.png  \n",
            " extracting: Dataset/Train/Parasite/C134P95ThinF_IMG_20151005_121952_cell_123.png  \n",
            " extracting: Dataset/Train/Parasite/C134P95ThinF_IMG_20151005_122331_cell_102.png  \n",
            " extracting: Dataset/Train/Parasite/C134P95ThinF_IMG_20151005_122331_cell_103.png  \n",
            " extracting: Dataset/Train/Parasite/C134P95ThinF_IMG_20151005_122449_cell_133.png  \n",
            " extracting: Dataset/Train/Parasite/C134P95ThinF_IMG_20151005_122449_cell_134.png  \n",
            " extracting: Dataset/Train/Parasite/C134P95ThinF_IMG_20151005_122552_cell_120.png  \n",
            " extracting: Dataset/Train/Parasite/C134P95ThinF_IMG_20151005_122552_cell_121.png  \n",
            " extracting: Dataset/Train/Parasite/C134P95ThinF_IMG_20151005_122552_cell_122.png  \n",
            " extracting: Dataset/Train/Parasite/C134P95ThinF_IMG_20151005_122552_cell_123.png  \n",
            " extracting: Dataset/Train/Parasite/C134P95ThinF_IMG_20151005_122552_cell_124.png  \n",
            " extracting: Dataset/Train/Parasite/C189P150ThinF_IMG_20151203_142113_cell_86.png  \n",
            " extracting: Dataset/Train/Parasite/C189P150ThinF_IMG_20151203_142113_cell_87.png  \n",
            " extracting: Dataset/Train/Parasite/C189P150ThinF_IMG_20151203_142113_cell_88.png  \n",
            " extracting: Dataset/Train/Parasite/C189P150ThinF_IMG_20151203_142113_cell_89.png  \n",
            " extracting: Dataset/Train/Parasite/C189P150ThinF_IMG_20151203_142113_cell_90.png  \n",
            " extracting: Dataset/Train/Parasite/C189P150ThinF_IMG_20151203_142113_cell_91.png  \n",
            " extracting: Dataset/Train/Parasite/C189P150ThinF_IMG_20151203_142113_cell_92.png  \n",
            " extracting: Dataset/Train/Parasite/C189P150ThinF_IMG_20151203_142224_cell_79.png  \n",
            " extracting: Dataset/Train/Parasite/C189P150ThinF_IMG_20151203_142224_cell_80.png  \n",
            " extracting: Dataset/Train/Parasite/C189P150ThinF_IMG_20151203_142224_cell_81.png  \n",
            " extracting: Dataset/Train/Parasite/C189P150ThinF_IMG_20151203_142224_cell_82.png  \n",
            " extracting: Dataset/Train/Parasite/C189P150ThinF_IMG_20151203_142224_cell_83.png  \n",
            " extracting: Dataset/Train/Parasite/C189P150ThinF_IMG_20151203_142224_cell_84.png  \n",
            " extracting: Dataset/Train/Parasite/C189P150ThinF_IMG_20151203_142224_cell_85.png  \n",
            " extracting: Dataset/Train/Parasite/C189P150ThinF_IMG_20151203_142224_cell_86.png  \n",
            " extracting: Dataset/Train/Parasite/C189P150ThinF_IMG_20151203_142224_cell_87.png  \n",
            " extracting: Dataset/Train/Parasite/C189P150ThinF_IMG_20151203_142224_cell_88.png  \n",
            " extracting: Dataset/Train/Parasite/C189P150ThinF_IMG_20151203_142224_cell_89.png  \n",
            " extracting: Dataset/Train/Parasite/C189P150ThinF_IMG_20151203_142224_cell_90.png  \n",
            " extracting: Dataset/Train/Parasite/C189P150ThinF_IMG_20151203_142224_cell_91.png  \n",
            " extracting: Dataset/Train/Parasite/C189P150ThinF_IMG_20151203_142224_cell_92.png  \n",
            " extracting: Dataset/Train/Parasite/C189P150ThinF_IMG_20151203_142224_cell_93.png  \n",
            " extracting: Dataset/Train/Parasite/C189P150ThinF_IMG_20151203_142224_cell_94.png  \n",
            " extracting: Dataset/Train/Parasite/C189P150ThinF_IMG_20151203_142224_cell_95.png  \n",
            " extracting: Dataset/Train/Parasite/C189P150ThinF_IMG_20151203_142224_cell_96.png  \n",
            " extracting: Dataset/Train/Parasite/C189P150ThinF_IMG_20151203_142224_cell_97.png  \n",
            " extracting: Dataset/Train/Parasite/C189P150ThinF_IMG_20151203_142224_cell_98.png  \n",
            "  inflating: Dataset/Train/Parasite/C33P1thinF_IMG_20150619_114756a_cell_179.png  \n",
            " extracting: Dataset/Train/Parasite/C33P1thinF_IMG_20150619_114756a_cell_180.png  \n",
            "  inflating: Dataset/Train/Parasite/C33P1thinF_IMG_20150619_114756a_cell_181.png  \n",
            "  inflating: Dataset/Train/Parasite/C33P1thinF_IMG_20150619_114756a_cell_182.png  \n",
            " extracting: Dataset/Train/Parasite/C33P1thinF_IMG_20150619_115740a_cell_161.png  \n",
            " extracting: Dataset/Train/Parasite/C33P1thinF_IMG_20150619_115740a_cell_162.png  \n",
            " extracting: Dataset/Train/Parasite/C33P1thinF_IMG_20150619_115740a_cell_163.png  \n",
            " extracting: Dataset/Train/Parasite/C33P1thinF_IMG_20150619_115808a_cell_205.png  \n",
            "  inflating: Dataset/Train/Parasite/C33P1thinF_IMG_20150619_115808a_cell_206.png  \n",
            " extracting: Dataset/Train/Parasite/C33P1thinF_IMG_20150619_120645a_cell_215.png  \n",
            " extracting: Dataset/Train/Parasite/C33P1thinF_IMG_20150619_120645a_cell_216.png  \n",
            " extracting: Dataset/Train/Parasite/C33P1thinF_IMG_20150619_120645a_cell_217.png  \n",
            " extracting: Dataset/Train/Parasite/C33P1thinF_IMG_20150619_120742a_cell_210.png  \n",
            " extracting: Dataset/Train/Parasite/C33P1thinF_IMG_20150619_120804a_cell_224.png  \n",
            " extracting: Dataset/Train/Parasite/C33P1thinF_IMG_20150619_120838a_cell_222.png  \n",
            " extracting: Dataset/Train/Parasite/C33P1thinF_IMG_20150619_121102a_cell_193.png  \n",
            " extracting: Dataset/Train/Parasite/C33P1thinF_IMG_20150619_121229a_cell_177.png  \n",
            " extracting: Dataset/Train/Parasite/C33P1thinF_IMG_20150619_121229a_cell_178.png  \n",
            " extracting: Dataset/Train/Parasite/C33P1thinF_IMG_20150619_121229a_cell_179.png  \n",
            " extracting: Dataset/Train/Parasite/C33P1thinF_IMG_20150619_121300a_cell_156.png  \n",
            " extracting: Dataset/Train/Parasite/C33P1thinF_IMG_20150619_121411a_cell_189.png  \n",
            " extracting: Dataset/Train/Parasite/C33P1thinF_IMG_20150619_121411a_cell_190.png  \n",
            " extracting: Dataset/Train/Parasite/C33P1thinF_IMG_20150619_121435a_cell_173.png  \n",
            " extracting: Dataset/Train/Parasite/C33P1thinF_IMG_20150619_121503a_cell_158.png  \n",
            " extracting: Dataset/Train/Parasite/C33P1thinF_IMG_20150619_121503a_cell_159.png  \n",
            "  inflating: Dataset/Train/Parasite/C37BP2_thinF_IMG_20150620_131423a_cell_92.png  \n",
            "  inflating: Dataset/Train/Parasite/C37BP2_thinF_IMG_20150620_131423a_cell_93.png  \n",
            "  inflating: Dataset/Train/Parasite/C37BP2_thinF_IMG_20150620_131423a_cell_94.png  \n",
            "  inflating: Dataset/Train/Parasite/C37BP2_thinF_IMG_20150620_132440a_cell_108.png  \n",
            " extracting: Dataset/Train/Parasite/C37BP2_thinF_IMG_20150620_132847a_cell_76.png  \n",
            " extracting: Dataset/Train/Parasite/C37BP2_thinF_IMG_20150620_132847a_cell_77.png  \n",
            "  inflating: Dataset/Train/Parasite/C37BP2_thinF_IMG_20150620_133001a_cell_76.png  \n",
            " extracting: Dataset/Train/Parasite/C37BP2_thinF_IMG_20150620_133001a_cell_77.png  \n",
            "  inflating: Dataset/Train/Parasite/C37BP2_thinF_IMG_20150620_133111a_cell_86.png  \n",
            "  inflating: Dataset/Train/Parasite/C37BP2_thinF_IMG_20150620_133111a_cell_87.png  \n",
            "  inflating: Dataset/Train/Parasite/C37BP2_thinF_IMG_20150620_133111a_cell_88.png  \n",
            "  inflating: Dataset/Train/Parasite/C37BP2_thinF_IMG_20150620_133205a_cell_87.png  \n",
            "  inflating: Dataset/Train/Parasite/C37BP2_thinF_IMG_20150620_133205a_cell_88.png  \n",
            " extracting: Dataset/Train/Parasite/C37BP2_thinF_IMG_20150620_133238a_cell_97.png  \n",
            "  inflating: Dataset/Train/Parasite/C38P3thinF_original_IMG_20150621_112043_cell_202.png  \n",
            " extracting: Dataset/Train/Parasite/C38P3thinF_original_IMG_20150621_112043_cell_203.png  \n",
            " extracting: Dataset/Train/Parasite/C38P3thinF_original_IMG_20150621_112116_cell_204.png  \n",
            " extracting: Dataset/Train/Parasite/C38P3thinF_original_IMG_20150621_112116_cell_205.png  \n",
            "  inflating: Dataset/Train/Parasite/C38P3thinF_original_IMG_20150621_112138_cell_183.png  \n",
            " extracting: Dataset/Train/Parasite/C38P3thinF_original_IMG_20150621_112246_cell_236.png  \n",
            " extracting: Dataset/Train/Parasite/C39P4thinF_original_IMG_20150622_105102_cell_100.png  \n",
            "  inflating: Dataset/Train/Parasite/C39P4thinF_original_IMG_20150622_105102_cell_101.png  \n",
            " extracting: Dataset/Train/Parasite/C39P4thinF_original_IMG_20150622_105102_cell_102.png  \n",
            " extracting: Dataset/Train/Parasite/C39P4thinF_original_IMG_20150622_105102_cell_103.png  \n",
            " extracting: Dataset/Train/Parasite/C39P4thinF_original_IMG_20150622_105102_cell_104.png  \n",
            " extracting: Dataset/Train/Parasite/C39P4thinF_original_IMG_20150622_105102_cell_105.png  \n",
            " extracting: Dataset/Train/Parasite/C39P4thinF_original_IMG_20150622_105102_cell_106.png  \n",
            " extracting: Dataset/Train/Parasite/C39P4thinF_original_IMG_20150622_105102_cell_107.png  \n",
            " extracting: Dataset/Train/Parasite/C39P4thinF_original_IMG_20150622_105102_cell_79.png  \n",
            " extracting: Dataset/Train/Parasite/C39P4thinF_original_IMG_20150622_105102_cell_80.png  \n",
            " extracting: Dataset/Train/Parasite/C39P4thinF_original_IMG_20150622_105102_cell_81.png  \n",
            " extracting: Dataset/Train/Parasite/C39P4thinF_original_IMG_20150622_105102_cell_82.png  \n",
            " extracting: Dataset/Train/Parasite/C39P4thinF_original_IMG_20150622_105102_cell_83.png  \n",
            " extracting: Dataset/Train/Parasite/C39P4thinF_original_IMG_20150622_105102_cell_84.png  \n",
            " extracting: Dataset/Train/Parasite/C39P4thinF_original_IMG_20150622_105102_cell_85.png  \n",
            " extracting: Dataset/Train/Parasite/C39P4thinF_original_IMG_20150622_105102_cell_86.png  \n",
            " extracting: Dataset/Train/Parasite/C39P4thinF_original_IMG_20150622_105102_cell_87.png  \n",
            " extracting: Dataset/Train/Parasite/C39P4thinF_original_IMG_20150622_105102_cell_88.png  \n",
            " extracting: Dataset/Train/Parasite/C39P4thinF_original_IMG_20150622_105102_cell_89.png  \n",
            " extracting: Dataset/Train/Parasite/C39P4thinF_original_IMG_20150622_105102_cell_90.png  \n",
            " extracting: Dataset/Train/Parasite/C39P4thinF_original_IMG_20150622_105102_cell_91.png  \n",
            " extracting: Dataset/Train/Parasite/C39P4thinF_original_IMG_20150622_105102_cell_92.png  \n",
            " extracting: Dataset/Train/Parasite/C39P4thinF_original_IMG_20150622_105102_cell_93.png  \n",
            " extracting: Dataset/Train/Parasite/C39P4thinF_original_IMG_20150622_105102_cell_94.png  \n",
            " extracting: Dataset/Train/Parasite/C39P4thinF_original_IMG_20150622_105102_cell_95.png  \n",
            " extracting: Dataset/Train/Parasite/C39P4thinF_original_IMG_20150622_105102_cell_96.png  \n",
            " extracting: Dataset/Train/Parasite/C39P4thinF_original_IMG_20150622_105102_cell_97.png  \n",
            " extracting: Dataset/Train/Parasite/C39P4thinF_original_IMG_20150622_105102_cell_98.png  \n",
            " extracting: Dataset/Train/Parasite/C39P4thinF_original_IMG_20150622_105102_cell_99.png  \n",
            " extracting: Dataset/Train/Parasite/C39P4thinF_original_IMG_20150622_105253_cell_100.png  \n",
            " extracting: Dataset/Train/Parasite/C39P4thinF_original_IMG_20150622_105253_cell_101.png  \n",
            " extracting: Dataset/Train/Parasite/C39P4thinF_original_IMG_20150622_105253_cell_102.png  \n",
            " extracting: Dataset/Train/Parasite/C39P4thinF_original_IMG_20150622_105253_cell_103.png  \n",
            " extracting: Dataset/Train/Parasite/C39P4thinF_original_IMG_20150622_105253_cell_104.png  \n",
            " extracting: Dataset/Train/Parasite/C39P4thinF_original_IMG_20150622_105253_cell_105.png  \n",
            " extracting: Dataset/Train/Parasite/C39P4thinF_original_IMG_20150622_105253_cell_106.png  \n",
            " extracting: Dataset/Train/Parasite/C39P4thinF_original_IMG_20150622_105253_cell_107.png  \n",
            " extracting: Dataset/Train/Parasite/C39P4thinF_original_IMG_20150622_105253_cell_108.png  \n",
            " extracting: Dataset/Train/Parasite/C39P4thinF_original_IMG_20150622_105253_cell_109.png  \n",
            " extracting: Dataset/Train/Parasite/C39P4thinF_original_IMG_20150622_105253_cell_110.png  \n",
            " extracting: Dataset/Train/Parasite/C39P4thinF_original_IMG_20150622_105253_cell_111.png  \n",
            "  inflating: Dataset/Train/Parasite/C39P4thinF_original_IMG_20150622_105253_cell_90.png  \n",
            " extracting: Dataset/Train/Parasite/C39P4thinF_original_IMG_20150622_105253_cell_91.png  \n",
            " extracting: Dataset/Train/Parasite/C39P4thinF_original_IMG_20150622_105253_cell_92.png  \n",
            " extracting: Dataset/Train/Parasite/C39P4thinF_original_IMG_20150622_105253_cell_93.png  \n",
            " extracting: Dataset/Train/Parasite/C39P4thinF_original_IMG_20150622_105253_cell_94.png  \n",
            " extracting: Dataset/Train/Parasite/C39P4thinF_original_IMG_20150622_105253_cell_95.png  \n",
            " extracting: Dataset/Train/Parasite/C39P4thinF_original_IMG_20150622_105253_cell_96.png  \n",
            " extracting: Dataset/Train/Parasite/C39P4thinF_original_IMG_20150622_105253_cell_97.png  \n",
            " extracting: Dataset/Train/Parasite/C39P4thinF_original_IMG_20150622_105253_cell_98.png  \n",
            " extracting: Dataset/Train/Parasite/C39P4thinF_original_IMG_20150622_105253_cell_99.png  \n",
            " extracting: Dataset/Train/Parasite/C39P4thinF_original_IMG_20150622_105335_cell_1.png  \n",
            " extracting: Dataset/Train/Parasite/C39P4thinF_original_IMG_20150622_105335_cell_10.png  \n",
            " extracting: Dataset/Train/Parasite/C39P4thinF_original_IMG_20150622_105335_cell_11.png  \n",
            " extracting: Dataset/Train/Parasite/C39P4thinF_original_IMG_20150622_105335_cell_12.png  \n",
            " extracting: Dataset/Train/Parasite/C39P4thinF_original_IMG_20150622_105335_cell_13.png  \n",
            " extracting: Dataset/Train/Parasite/C39P4thinF_original_IMG_20150622_105335_cell_14.png  \n",
            " extracting: Dataset/Train/Parasite/C39P4thinF_original_IMG_20150622_105335_cell_15.png  \n",
            " extracting: Dataset/Train/Parasite/C39P4thinF_original_IMG_20150622_105335_cell_16.png  \n",
            " extracting: Dataset/Train/Parasite/C39P4thinF_original_IMG_20150622_105335_cell_17.png  \n",
            " extracting: Dataset/Train/Parasite/C39P4thinF_original_IMG_20150622_105335_cell_18.png  \n",
            " extracting: Dataset/Train/Parasite/C39P4thinF_original_IMG_20150622_105335_cell_19.png  \n",
            " extracting: Dataset/Train/Parasite/C39P4thinF_original_IMG_20150622_105335_cell_2.png  \n",
            " extracting: Dataset/Train/Parasite/C39P4thinF_original_IMG_20150622_105335_cell_20.png  \n",
            " extracting: Dataset/Train/Parasite/C39P4thinF_original_IMG_20150622_105335_cell_21.png  \n",
            " extracting: Dataset/Train/Parasite/C39P4thinF_original_IMG_20150622_105335_cell_22.png  \n",
            " extracting: Dataset/Train/Parasite/C39P4thinF_original_IMG_20150622_105335_cell_23.png  \n",
            " extracting: Dataset/Train/Parasite/C39P4thinF_original_IMG_20150622_105335_cell_24.png  \n",
            " extracting: Dataset/Train/Parasite/C39P4thinF_original_IMG_20150622_105335_cell_25.png  \n",
            "  inflating: Dataset/Train/Parasite/C39P4thinF_original_IMG_20150622_105335_cell_26.png  \n",
            " extracting: Dataset/Train/Parasite/C39P4thinF_original_IMG_20150622_105335_cell_27.png  \n",
            " extracting: Dataset/Train/Parasite/C39P4thinF_original_IMG_20150622_105335_cell_28.png  \n",
            "  inflating: Dataset/Train/Parasite/C39P4thinF_original_IMG_20150622_105335_cell_29.png  \n",
            " extracting: Dataset/Train/Parasite/C39P4thinF_original_IMG_20150622_105335_cell_3.png  \n",
            " extracting: Dataset/Train/Parasite/C39P4thinF_original_IMG_20150622_105335_cell_30.png  \n",
            " extracting: Dataset/Train/Parasite/C39P4thinF_original_IMG_20150622_105335_cell_31.png  \n",
            " extracting: Dataset/Train/Parasite/C39P4thinF_original_IMG_20150622_105335_cell_32.png  \n",
            " extracting: Dataset/Train/Parasite/C39P4thinF_original_IMG_20150622_105335_cell_4.png  \n",
            " extracting: Dataset/Train/Parasite/C39P4thinF_original_IMG_20150622_105335_cell_5.png  \n",
            " extracting: Dataset/Train/Parasite/C39P4thinF_original_IMG_20150622_105335_cell_6.png  \n",
            " extracting: Dataset/Train/Parasite/C39P4thinF_original_IMG_20150622_105335_cell_7.png  \n",
            " extracting: Dataset/Train/Parasite/C39P4thinF_original_IMG_20150622_105335_cell_8.png  \n",
            " extracting: Dataset/Train/Parasite/C39P4thinF_original_IMG_20150622_105335_cell_9.png  \n",
            " extracting: Dataset/Train/Parasite/C39P4thinF_original_IMG_20150622_105554_cell_1.png  \n",
            " extracting: Dataset/Train/Parasite/C39P4thinF_original_IMG_20150622_105554_cell_2.png  \n",
            " extracting: Dataset/Train/Parasite/C39P4thinF_original_IMG_20150622_105554_cell_3.png  \n",
            " extracting: Dataset/Train/Parasite/C39P4thinF_original_IMG_20150622_105554_cell_4.png  \n",
            "   creating: Dataset/Train/Uninfected/\n",
            " extracting: Dataset/Train/Uninfected/C1_thinF_IMG_20150604_104722_cell_115.png  \n",
            " extracting: Dataset/Train/Uninfected/C1_thinF_IMG_20150604_104722_cell_123.png  \n",
            " extracting: Dataset/Train/Uninfected/C1_thinF_IMG_20150604_104722_cell_143.png  \n",
            " extracting: Dataset/Train/Uninfected/C1_thinF_IMG_20150604_104722_cell_15.png  \n",
            " extracting: Dataset/Train/Uninfected/C1_thinF_IMG_20150604_104722_cell_164.png  \n",
            " extracting: Dataset/Train/Uninfected/C1_thinF_IMG_20150604_104722_cell_191.png  \n",
            " extracting: Dataset/Train/Uninfected/C1_thinF_IMG_20150604_104722_cell_211.png  \n",
            " extracting: Dataset/Train/Uninfected/C1_thinF_IMG_20150604_104722_cell_216.png  \n",
            " extracting: Dataset/Train/Uninfected/C1_thinF_IMG_20150604_104722_cell_231.png  \n",
            " extracting: Dataset/Train/Uninfected/C1_thinF_IMG_20150604_104722_cell_242.png  \n",
            " extracting: Dataset/Train/Uninfected/C1_thinF_IMG_20150604_104722_cell_248.png  \n",
            " extracting: Dataset/Train/Uninfected/C1_thinF_IMG_20150604_104722_cell_60.png  \n",
            " extracting: Dataset/Train/Uninfected/C1_thinF_IMG_20150604_104722_cell_66.png  \n",
            " extracting: Dataset/Train/Uninfected/C1_thinF_IMG_20150604_104722_cell_73.png  \n",
            " extracting: Dataset/Train/Uninfected/C1_thinF_IMG_20150604_104722_cell_79.png  \n",
            " extracting: Dataset/Train/Uninfected/C1_thinF_IMG_20150604_104722_cell_81.png  \n",
            " extracting: Dataset/Train/Uninfected/C1_thinF_IMG_20150604_104722_cell_9.png  \n",
            " extracting: Dataset/Train/Uninfected/C1_thinF_IMG_20150604_104919_cell_123.png  \n",
            " extracting: Dataset/Train/Uninfected/C1_thinF_IMG_20150604_104919_cell_132.png  \n",
            " extracting: Dataset/Train/Uninfected/C1_thinF_IMG_20150604_104919_cell_134.png  \n",
            " extracting: Dataset/Train/Uninfected/C1_thinF_IMG_20150604_104919_cell_157.png  \n",
            " extracting: Dataset/Train/Uninfected/C1_thinF_IMG_20150604_104919_cell_163.png  \n",
            " extracting: Dataset/Train/Uninfected/C1_thinF_IMG_20150604_104919_cell_164.png  \n",
            " extracting: Dataset/Train/Uninfected/C1_thinF_IMG_20150604_104919_cell_173.png  \n",
            " extracting: Dataset/Train/Uninfected/C1_thinF_IMG_20150604_104919_cell_178.png  \n",
            " extracting: Dataset/Train/Uninfected/C1_thinF_IMG_20150604_104919_cell_183.png  \n",
            " extracting: Dataset/Train/Uninfected/C1_thinF_IMG_20150604_104919_cell_189.png  \n",
            " extracting: Dataset/Train/Uninfected/C1_thinF_IMG_20150604_104919_cell_199.png  \n",
            " extracting: Dataset/Train/Uninfected/C1_thinF_IMG_20150604_104919_cell_224.png  \n",
            " extracting: Dataset/Train/Uninfected/C1_thinF_IMG_20150604_104919_cell_240.png  \n",
            " extracting: Dataset/Train/Uninfected/C1_thinF_IMG_20150604_104919_cell_31.png  \n",
            " extracting: Dataset/Train/Uninfected/C1_thinF_IMG_20150604_104919_cell_82.png  \n",
            " extracting: Dataset/Train/Uninfected/C1_thinF_IMG_20150604_104919_cell_84.png  \n",
            " extracting: Dataset/Train/Uninfected/C1_thinF_IMG_20150604_104919_cell_86.png  \n",
            " extracting: Dataset/Train/Uninfected/C1_thinF_IMG_20150604_104919_cell_96.png  \n",
            " extracting: Dataset/Train/Uninfected/C1_thinF_IMG_20150604_104942_cell_102.png  \n",
            " extracting: Dataset/Train/Uninfected/C1_thinF_IMG_20150604_104942_cell_11.png  \n",
            " extracting: Dataset/Train/Uninfected/C1_thinF_IMG_20150604_104942_cell_139.png  \n",
            " extracting: Dataset/Train/Uninfected/C1_thinF_IMG_20150604_104942_cell_151.png  \n",
            " extracting: Dataset/Train/Uninfected/C1_thinF_IMG_20150604_104942_cell_152.png  \n",
            " extracting: Dataset/Train/Uninfected/C1_thinF_IMG_20150604_104942_cell_154.png  \n",
            " extracting: Dataset/Train/Uninfected/C1_thinF_IMG_20150604_104942_cell_156.png  \n",
            " extracting: Dataset/Train/Uninfected/C1_thinF_IMG_20150604_104942_cell_168.png  \n",
            " extracting: Dataset/Train/Uninfected/C1_thinF_IMG_20150604_104942_cell_185.png  \n",
            " extracting: Dataset/Train/Uninfected/C1_thinF_IMG_20150604_104942_cell_20.png  \n",
            " extracting: Dataset/Train/Uninfected/C1_thinF_IMG_20150604_104942_cell_203.png  \n",
            " extracting: Dataset/Train/Uninfected/C1_thinF_IMG_20150604_104942_cell_209.png  \n",
            " extracting: Dataset/Train/Uninfected/C1_thinF_IMG_20150604_104942_cell_218.png  \n",
            " extracting: Dataset/Train/Uninfected/C1_thinF_IMG_20150604_104942_cell_269.png  \n",
            " extracting: Dataset/Train/Uninfected/C1_thinF_IMG_20150604_104942_cell_4.png  \n",
            " extracting: Dataset/Train/Uninfected/C1_thinF_IMG_20150604_104942_cell_59.png  \n",
            " extracting: Dataset/Train/Uninfected/C1_thinF_IMG_20150604_104942_cell_72.png  \n",
            " extracting: Dataset/Train/Uninfected/C1_thinF_IMG_20150604_104942_cell_98.png  \n",
            " extracting: Dataset/Train/Uninfected/C1_thinF_IMG_20150604_105100_cell_130.png  \n",
            " extracting: Dataset/Train/Uninfected/C1_thinF_IMG_20150604_105100_cell_134.png  \n",
            " extracting: Dataset/Train/Uninfected/C1_thinF_IMG_20150604_105100_cell_151.png  \n",
            " extracting: Dataset/Train/Uninfected/C1_thinF_IMG_20150604_105100_cell_152.png  \n",
            " extracting: Dataset/Train/Uninfected/C1_thinF_IMG_20150604_105100_cell_157.png  \n",
            " extracting: Dataset/Train/Uninfected/C1_thinF_IMG_20150604_105100_cell_180.png  \n",
            " extracting: Dataset/Train/Uninfected/C1_thinF_IMG_20150604_105100_cell_186.png  \n",
            " extracting: Dataset/Train/Uninfected/C1_thinF_IMG_20150604_105100_cell_201.png  \n",
            "  inflating: Dataset/Train/Uninfected/C1_thinF_IMG_20150604_105100_cell_211.png  \n",
            " extracting: Dataset/Train/Uninfected/C1_thinF_IMG_20150604_105100_cell_213.png  \n",
            " extracting: Dataset/Train/Uninfected/C1_thinF_IMG_20150604_105100_cell_232.png  \n",
            " extracting: Dataset/Train/Uninfected/C1_thinF_IMG_20150604_105100_cell_243.png  \n",
            " extracting: Dataset/Train/Uninfected/C1_thinF_IMG_20150604_105100_cell_275.png  \n",
            " extracting: Dataset/Train/Uninfected/C1_thinF_IMG_20150604_105100_cell_277.png  \n",
            " extracting: Dataset/Train/Uninfected/C1_thinF_IMG_20150604_105100_cell_43.png  \n",
            " extracting: Dataset/Train/Uninfected/C1_thinF_IMG_20150604_105100_cell_53.png  \n",
            " extracting: Dataset/Train/Uninfected/C1_thinF_IMG_20150604_105100_cell_69.png  \n",
            " extracting: Dataset/Train/Uninfected/C241NThinF_IMG_20151207_124240_cell_169.png  \n",
            " extracting: Dataset/Train/Uninfected/C241NThinF_IMG_20151207_124358_cell_119.png  \n",
            "  inflating: Dataset/Train/Uninfected/C241NThinF_IMG_20151207_124358_cell_130.png  \n",
            "  inflating: Dataset/Train/Uninfected/C241NThinF_IMG_20151207_124358_cell_137.png  \n",
            "  inflating: Dataset/Train/Uninfected/C241NThinF_IMG_20151207_124358_cell_144.png  \n",
            " extracting: Dataset/Train/Uninfected/C241NThinF_IMG_20151207_124358_cell_149.png  \n",
            " extracting: Dataset/Train/Uninfected/C241NThinF_IMG_20151207_124358_cell_35.png  \n",
            " extracting: Dataset/Train/Uninfected/C241NThinF_IMG_20151207_124358_cell_73.png  \n",
            " extracting: Dataset/Train/Uninfected/C241NThinF_IMG_20151207_124358_cell_82.png  \n",
            " extracting: Dataset/Train/Uninfected/C241NThinF_IMG_20151207_124358_cell_84.png  \n",
            " extracting: Dataset/Train/Uninfected/C241NThinF_IMG_20151207_124358_cell_91.png  \n",
            " extracting: Dataset/Train/Uninfected/C241NThinF_IMG_20151207_124608_cell_104.png  \n",
            " extracting: Dataset/Train/Uninfected/C241NThinF_IMG_20151207_124608_cell_120.png  \n",
            " extracting: Dataset/Train/Uninfected/C241NThinF_IMG_20151207_124608_cell_125.png  \n",
            " extracting: Dataset/Train/Uninfected/C241NThinF_IMG_20151207_124608_cell_171.png  \n",
            " extracting: Dataset/Train/Uninfected/C241NThinF_IMG_20151207_124608_cell_22.png  \n",
            "  inflating: Dataset/Train/Uninfected/C241NThinF_IMG_20151207_124608_cell_30.png  \n",
            " extracting: Dataset/Train/Uninfected/C241NThinF_IMG_20151207_124608_cell_40.png  \n",
            " extracting: Dataset/Train/Uninfected/C241NThinF_IMG_20151207_124608_cell_51.png  \n",
            " extracting: Dataset/Train/Uninfected/C241NThinF_IMG_20151207_124608_cell_61.png  \n",
            "  inflating: Dataset/Train/Uninfected/C241NThinF_IMG_20151207_124608_cell_90.png  \n",
            " extracting: Dataset/Train/Uninfected/C241NThinF_IMG_20151207_124643_cell_125.png  \n",
            " extracting: Dataset/Train/Uninfected/C241NThinF_IMG_20151207_124643_cell_136.png  \n",
            " extracting: Dataset/Train/Uninfected/C241NThinF_IMG_20151207_124643_cell_158.png  \n",
            " extracting: Dataset/Train/Uninfected/C241NThinF_IMG_20151207_124643_cell_169.png  \n",
            " extracting: Dataset/Train/Uninfected/C241NThinF_IMG_20151207_124643_cell_25.png  \n",
            " extracting: Dataset/Train/Uninfected/C241NThinF_IMG_20151207_124643_cell_26.png  \n",
            " extracting: Dataset/Train/Uninfected/C241NThinF_IMG_20151207_124643_cell_45.png  \n",
            "  inflating: Dataset/Train/Uninfected/C241NThinF_IMG_20151207_124643_cell_46.png  \n",
            " extracting: Dataset/Train/Uninfected/C241NThinF_IMG_20151207_124643_cell_91.png  \n",
            " extracting: Dataset/Train/Uninfected/C241NThinF_IMG_20151207_124643_cell_96.png  \n",
            " extracting: Dataset/Train/Uninfected/C2NThinF_IMG_20150604_114631_cell_141.png  \n",
            " extracting: Dataset/Train/Uninfected/C2NThinF_IMG_20150604_114631_cell_144.png  \n",
            " extracting: Dataset/Train/Uninfected/C2NThinF_IMG_20150604_114631_cell_150.png  \n",
            " extracting: Dataset/Train/Uninfected/C2NThinF_IMG_20150604_114631_cell_155.png  \n",
            " extracting: Dataset/Train/Uninfected/C2NThinF_IMG_20150604_114631_cell_187.png  \n",
            " extracting: Dataset/Train/Uninfected/C2NThinF_IMG_20150604_114631_cell_204.png  \n",
            " extracting: Dataset/Train/Uninfected/C2NThinF_IMG_20150604_114631_cell_214.png  \n",
            " extracting: Dataset/Train/Uninfected/C2NThinF_IMG_20150604_114631_cell_215.png  \n",
            " extracting: Dataset/Train/Uninfected/C2NThinF_IMG_20150604_114631_cell_38.png  \n",
            " extracting: Dataset/Train/Uninfected/C2NThinF_IMG_20150604_114631_cell_52.png  \n",
            " extracting: Dataset/Train/Uninfected/C2NThinF_IMG_20150604_114631_cell_72.png  \n",
            " extracting: Dataset/Train/Uninfected/C2NThinF_IMG_20150604_114631_cell_74.png  \n",
            " extracting: Dataset/Train/Uninfected/C2NThinF_IMG_20150604_114631_cell_84.png  \n",
            " extracting: Dataset/Train/Uninfected/C2NThinF_IMG_20150604_114631_cell_99.png  \n",
            " extracting: Dataset/Train/Uninfected/C2NThinF_IMG_20150604_114730_cell_113.png  \n",
            " extracting: Dataset/Train/Uninfected/C2NThinF_IMG_20150604_114730_cell_12.png  \n",
            " extracting: Dataset/Train/Uninfected/C2NThinF_IMG_20150604_114730_cell_124.png  \n",
            " extracting: Dataset/Train/Uninfected/C2NThinF_IMG_20150604_114730_cell_13.png  \n",
            " extracting: Dataset/Train/Uninfected/C2NThinF_IMG_20150604_114730_cell_139.png  \n",
            " extracting: Dataset/Train/Uninfected/C2NThinF_IMG_20150604_114730_cell_161.png  \n",
            " extracting: Dataset/Train/Uninfected/C2NThinF_IMG_20150604_114730_cell_172.png  \n",
            " extracting: Dataset/Train/Uninfected/C2NThinF_IMG_20150604_114730_cell_173.png  \n",
            " extracting: Dataset/Train/Uninfected/C2NThinF_IMG_20150604_114730_cell_178.png  \n",
            " extracting: Dataset/Train/Uninfected/C2NThinF_IMG_20150604_114730_cell_183.png  \n",
            " extracting: Dataset/Train/Uninfected/C2NThinF_IMG_20150604_114730_cell_36.png  \n",
            " extracting: Dataset/Train/Uninfected/C2NThinF_IMG_20150604_114730_cell_72.png  \n",
            " extracting: Dataset/Train/Uninfected/C2NThinF_IMG_20150604_114730_cell_98.png  \n",
            " extracting: Dataset/Train/Uninfected/C2NThinF_IMG_20150604_114751_cell_101.png  \n",
            " extracting: Dataset/Train/Uninfected/C2NThinF_IMG_20150604_114751_cell_106.png  \n",
            " extracting: Dataset/Train/Uninfected/C2NThinF_IMG_20150604_114751_cell_107.png  \n",
            " extracting: Dataset/Train/Uninfected/C2NThinF_IMG_20150604_114751_cell_113.png  \n",
            " extracting: Dataset/Train/Uninfected/C2NThinF_IMG_20150604_114751_cell_127.png  \n",
            " extracting: Dataset/Train/Uninfected/C2NThinF_IMG_20150604_114751_cell_142.png  \n",
            " extracting: Dataset/Train/Uninfected/C2NThinF_IMG_20150604_114751_cell_181.png  \n",
            " extracting: Dataset/Train/Uninfected/C2NThinF_IMG_20150604_114751_cell_197.png  \n",
            " extracting: Dataset/Train/Uninfected/C2NThinF_IMG_20150604_114751_cell_217.png  \n",
            " extracting: Dataset/Train/Uninfected/C2NThinF_IMG_20150604_114751_cell_221.png  \n",
            " extracting: Dataset/Train/Uninfected/C2NThinF_IMG_20150604_114751_cell_38.png  \n",
            " extracting: Dataset/Train/Uninfected/C2NThinF_IMG_20150604_114751_cell_69.png  \n",
            " extracting: Dataset/Train/Uninfected/C2NThinF_IMG_20150604_114751_cell_92.png  \n",
            " extracting: Dataset/Train/Uninfected/C2NThinF_IMG_20150604_114751_cell_93.png  \n",
            " extracting: Dataset/Train/Uninfected/C2NThinF_IMG_20150604_114815_cell_107.png  \n",
            " extracting: Dataset/Train/Uninfected/C2NThinF_IMG_20150604_114815_cell_128.png  \n",
            " extracting: Dataset/Train/Uninfected/C2NThinF_IMG_20150604_114815_cell_142.png  \n",
            " extracting: Dataset/Train/Uninfected/C2NThinF_IMG_20150604_114815_cell_217.png  \n",
            " extracting: Dataset/Train/Uninfected/C2NThinF_IMG_20150604_114815_cell_232.png  \n",
            " extracting: Dataset/Train/Uninfected/C2NThinF_IMG_20150604_114815_cell_233.png  \n",
            " extracting: Dataset/Train/Uninfected/C2NThinF_IMG_20150604_114815_cell_235.png  \n",
            " extracting: Dataset/Train/Uninfected/C2NThinF_IMG_20150604_114815_cell_242.png  \n",
            " extracting: Dataset/Train/Uninfected/C2NThinF_IMG_20150604_114815_cell_6.png  \n",
            " extracting: Dataset/Train/Uninfected/C2NThinF_IMG_20150604_114815_cell_62.png  \n",
            " extracting: Dataset/Train/Uninfected/C2NThinF_IMG_20150604_114815_cell_66.png  \n",
            " extracting: Dataset/Train/Uninfected/C2NThinF_IMG_20150604_114815_cell_73.png  \n",
            " extracting: Dataset/Train/Uninfected/C2NThinF_IMG_20150604_114815_cell_9.png  \n",
            " extracting: Dataset/Train/Uninfected/C2NThinF_IMG_20150604_114815_cell_95.png  \n",
            " extracting: Dataset/Train/Uninfected/C2NThinF_IMG_20150604_115238_cell_115.png  \n",
            " extracting: Dataset/Train/Uninfected/C2NThinF_IMG_20150604_115238_cell_117.png  \n",
            " extracting: Dataset/Train/Uninfected/C2NThinF_IMG_20150604_115238_cell_126.png  \n",
            " extracting: Dataset/Train/Uninfected/C2NThinF_IMG_20150604_115238_cell_13.png  \n",
            " extracting: Dataset/Train/Uninfected/C2NThinF_IMG_20150604_115238_cell_133.png  \n",
            " extracting: Dataset/Train/Uninfected/C2NThinF_IMG_20150604_115238_cell_138.png  \n",
            " extracting: Dataset/Train/Uninfected/C2NThinF_IMG_20150604_115238_cell_196.png  \n",
            " extracting: Dataset/Train/Uninfected/C3thin_original_IMG_20150608_163002_cell_159.png  \n",
            " extracting: Dataset/Train/Uninfected/C3thin_original_IMG_20150608_163002_cell_195.png  \n",
            " extracting: Dataset/Train/Uninfected/C3thin_original_IMG_20150608_163029_cell_1.png  \n",
            " extracting: Dataset/Train/Uninfected/C3thin_original_IMG_20150608_163029_cell_109.png  \n",
            " extracting: Dataset/Train/Uninfected/C3thin_original_IMG_20150608_163029_cell_121.png  \n",
            " extracting: Dataset/Train/Uninfected/C3thin_original_IMG_20150608_163029_cell_125.png  \n",
            " extracting: Dataset/Train/Uninfected/C3thin_original_IMG_20150608_163029_cell_156.png  \n",
            " extracting: Dataset/Train/Uninfected/C3thin_original_IMG_20150608_163029_cell_166.png  \n",
            " extracting: Dataset/Train/Uninfected/C3thin_original_IMG_20150608_163029_cell_186.png  \n",
            " extracting: Dataset/Train/Uninfected/C3thin_original_IMG_20150608_163029_cell_202.png  \n",
            " extracting: Dataset/Train/Uninfected/C3thin_original_IMG_20150608_163029_cell_220.png  \n",
            " extracting: Dataset/Train/Uninfected/C3thin_original_IMG_20150608_163029_cell_44.png  \n",
            " extracting: Dataset/Train/Uninfected/C3thin_original_IMG_20150608_163029_cell_52.png  \n",
            " extracting: Dataset/Train/Uninfected/C3thin_original_IMG_20150608_163029_cell_57.png  \n",
            " extracting: Dataset/Train/Uninfected/C3thin_original_IMG_20150608_163029_cell_80.png  \n",
            " extracting: Dataset/Train/Uninfected/C3thin_original_IMG_20150608_163029_cell_83.png  \n",
            " extracting: Dataset/Train/Uninfected/C3thin_original_IMG_20150608_163047_cell_103.png  \n",
            " extracting: Dataset/Train/Uninfected/C3thin_original_IMG_20150608_163047_cell_145.png  \n",
            " extracting: Dataset/Train/Uninfected/C3thin_original_IMG_20150608_163047_cell_147.png  \n",
            " extracting: Dataset/Train/Uninfected/C3thin_original_IMG_20150608_163047_cell_161.png  \n",
            " extracting: Dataset/Train/Uninfected/C3thin_original_IMG_20150608_163047_cell_168.png  \n",
            " extracting: Dataset/Train/Uninfected/C3thin_original_IMG_20150608_163047_cell_183.png  \n",
            " extracting: Dataset/Train/Uninfected/C3thin_original_IMG_20150608_163047_cell_192.png  \n",
            " extracting: Dataset/Train/Uninfected/C3thin_original_IMG_20150608_163047_cell_212.png  \n",
            " extracting: Dataset/Train/Uninfected/C3thin_original_IMG_20150608_163047_cell_214.png  \n",
            " extracting: Dataset/Train/Uninfected/C3thin_original_IMG_20150608_163047_cell_215.png  \n",
            " extracting: Dataset/Train/Uninfected/C3thin_original_IMG_20150608_163047_cell_22.png  \n",
            " extracting: Dataset/Train/Uninfected/C3thin_original_IMG_20150608_163047_cell_236.png  \n",
            " extracting: Dataset/Train/Uninfected/C3thin_original_IMG_20150608_163047_cell_26.png  \n",
            " extracting: Dataset/Train/Uninfected/C3thin_original_IMG_20150608_163047_cell_36.png  \n",
            " extracting: Dataset/Train/Uninfected/C4thin_original_IMG_20150608_165540_cell_19.png  \n",
            " extracting: Dataset/Train/Uninfected/C4thin_original_IMG_20150608_165540_cell_50.png  \n",
            " extracting: Dataset/Train/Uninfected/C4thin_original_IMG_20150608_165540_cell_52.png  \n"
          ],
          "name": "stdout"
        }
      ]
    },
    {
      "cell_type": "code",
      "metadata": {
        "id": "NUV32P9P-6Qd"
      },
      "source": [
        "train_datagen = image.ImageDataGenerator(\n",
        "    rescale = 1.0/255,\n",
        "    zoom_range = 0.2,\n",
        "    horizontal_flip = True,\n",
        "    shear_range = 0.2\n",
        ")\n",
        "\n",
        "test_datagen = image.ImageDataGenerator(\n",
        "    rescale=1.0/255\n",
        ")"
      ],
      "execution_count": 5,
      "outputs": []
    },
    {
      "cell_type": "code",
      "metadata": {
        "id": "A32w-74_-6Qk",
        "outputId": "f05f3a42-88e0-44be-984f-922ed40026e2",
        "colab": {
          "base_uri": "https://localhost:8080/"
        }
      },
      "source": [
        "train_generator = train_datagen.flow_from_directory(\n",
        "    Train_path,\n",
        "    target_size = (224,224),\n",
        "    class_mode = 'categorical',\n",
        "    batch_size = 32\n",
        ")\n"
      ],
      "execution_count": 6,
      "outputs": [
        {
          "output_type": "stream",
          "text": [
            "Found 416 images belonging to 2 classes.\n"
          ],
          "name": "stdout"
        }
      ]
    },
    {
      "cell_type": "code",
      "metadata": {
        "id": "7UH6xPVf-6Qv",
        "outputId": "1a2be77d-0d1a-41a8-fe99-d5e45a1ea227",
        "colab": {
          "base_uri": "https://localhost:8080/"
        }
      },
      "source": [
        "test_generator = test_datagen.flow_from_directory(\n",
        "    Test_path,\n",
        "    target_size = (224,224),\n",
        "    class_mode = 'categorical',\n",
        "    batch_size = 32\n",
        ")"
      ],
      "execution_count": 7,
      "outputs": [
        {
          "output_type": "stream",
          "text": [
            "Found 134 images belonging to 2 classes.\n"
          ],
          "name": "stdout"
        }
      ]
    },
    {
      "cell_type": "code",
      "metadata": {
        "id": "iZ0RHtyD-6Q2",
        "outputId": "8eff44a9-ad7f-49f6-b410-8a3448543d4f",
        "colab": {
          "base_uri": "https://localhost:8080/"
        }
      },
      "source": [
        "model = Sequential()\n",
        "model.add(Conv2D(16,(3,3),activation='relu',input_shape=(224,224,3)))\n",
        "model.add(Conv2D(64,(3,3),activation='relu'))\n",
        "model.add(MaxPool2D(pool_size=(2,2)))\n",
        "model.add(Dropout(0.25))\n",
        "model.add(Conv2D(64,(3,3),activation='relu'))\n",
        "model.add(MaxPool2D(pool_size=(2,2)))\n",
        "model.add(Dropout(0.25))\n",
        "model.add(Conv2D(64,(3,3),activation='relu'))\n",
        "model.add(MaxPool2D(pool_size=(2,2)))\n",
        "model.add(Dropout(0.25))\n",
        "model.add(Conv2D(128,(3,3),activation='relu'))\n",
        "model.add(MaxPool2D(pool_size=(2,2)))\n",
        "model.add(Dropout(0.25))\n",
        "model.add(Flatten())\n",
        "model.add(Dense(128,activation='relu'))\n",
        "model.add(Dropout(0.25))\n",
        "model.add(Dense(2,activation='softmax'))\n",
        "\n",
        "model.summary()"
      ],
      "execution_count": 8,
      "outputs": [
        {
          "output_type": "stream",
          "text": [
            "Model: \"sequential\"\n",
            "_________________________________________________________________\n",
            "Layer (type)                 Output Shape              Param #   \n",
            "=================================================================\n",
            "conv2d (Conv2D)              (None, 222, 222, 16)      448       \n",
            "_________________________________________________________________\n",
            "conv2d_1 (Conv2D)            (None, 220, 220, 64)      9280      \n",
            "_________________________________________________________________\n",
            "max_pooling2d (MaxPooling2D) (None, 110, 110, 64)      0         \n",
            "_________________________________________________________________\n",
            "dropout (Dropout)            (None, 110, 110, 64)      0         \n",
            "_________________________________________________________________\n",
            "conv2d_2 (Conv2D)            (None, 108, 108, 64)      36928     \n",
            "_________________________________________________________________\n",
            "max_pooling2d_1 (MaxPooling2 (None, 54, 54, 64)        0         \n",
            "_________________________________________________________________\n",
            "dropout_1 (Dropout)          (None, 54, 54, 64)        0         \n",
            "_________________________________________________________________\n",
            "conv2d_3 (Conv2D)            (None, 52, 52, 64)        36928     \n",
            "_________________________________________________________________\n",
            "max_pooling2d_2 (MaxPooling2 (None, 26, 26, 64)        0         \n",
            "_________________________________________________________________\n",
            "dropout_2 (Dropout)          (None, 26, 26, 64)        0         \n",
            "_________________________________________________________________\n",
            "conv2d_4 (Conv2D)            (None, 24, 24, 128)       73856     \n",
            "_________________________________________________________________\n",
            "max_pooling2d_3 (MaxPooling2 (None, 12, 12, 128)       0         \n",
            "_________________________________________________________________\n",
            "dropout_3 (Dropout)          (None, 12, 12, 128)       0         \n",
            "_________________________________________________________________\n",
            "flatten (Flatten)            (None, 18432)             0         \n",
            "_________________________________________________________________\n",
            "dense (Dense)                (None, 128)               2359424   \n",
            "_________________________________________________________________\n",
            "dropout_4 (Dropout)          (None, 128)               0         \n",
            "_________________________________________________________________\n",
            "dense_1 (Dense)              (None, 2)                 258       \n",
            "=================================================================\n",
            "Total params: 2,517,122\n",
            "Trainable params: 2,517,122\n",
            "Non-trainable params: 0\n",
            "_________________________________________________________________\n"
          ],
          "name": "stdout"
        }
      ]
    },
    {
      "cell_type": "code",
      "metadata": {
        "id": "1nt7iwak-6Q9"
      },
      "source": [
        "model.compile(loss='categorical_crossentropy',optimizer='adam',metrics=['accuracy'])"
      ],
      "execution_count": 9,
      "outputs": []
    },
    {
      "cell_type": "code",
      "metadata": {
        "id": "-Jc6yj0G-6RD",
        "outputId": "20b4431b-f4c1-43fa-9d30-5ca97fa59f5e",
        "colab": {
          "base_uri": "https://localhost:8080/"
        }
      },
      "source": [
        "hist = model.fit_generator(train_generator,epochs=10,steps_per_epoch=len(train_generator),validation_data=test_generator,validation_steps=len(test_generator))"
      ],
      "execution_count": 10,
      "outputs": [
        {
          "output_type": "stream",
          "text": [
            "WARNING:tensorflow:From <ipython-input-10-c1e1c245a17c>:1: Model.fit_generator (from tensorflow.python.keras.engine.training) is deprecated and will be removed in a future version.\n",
            "Instructions for updating:\n",
            "Please use Model.fit, which supports generators.\n",
            "Epoch 1/10\n",
            " 2/13 [===>..........................] - ETA: 0s - loss: 1.5482 - accuracy: 0.4688WARNING:tensorflow:Callbacks method `on_train_batch_end` is slow compared to the batch time (batch time: 0.0254s vs `on_train_batch_end` time: 0.0385s). Check your callbacks.\n",
            "13/13 [==============================] - 5s 389ms/step - loss: 0.8332 - accuracy: 0.4760 - val_loss: 0.6920 - val_accuracy: 0.6791\n",
            "Epoch 2/10\n",
            "13/13 [==============================] - 5s 398ms/step - loss: 0.6926 - accuracy: 0.5264 - val_loss: 0.6883 - val_accuracy: 0.6791\n",
            "Epoch 3/10\n",
            "13/13 [==============================] - 5s 395ms/step - loss: 0.6677 - accuracy: 0.6851 - val_loss: 0.7991 - val_accuracy: 0.3209\n",
            "Epoch 4/10\n",
            "13/13 [==============================] - 5s 395ms/step - loss: 0.5561 - accuracy: 0.7139 - val_loss: 0.8955 - val_accuracy: 0.2537\n",
            "Epoch 5/10\n",
            "13/13 [==============================] - 5s 399ms/step - loss: 0.4496 - accuracy: 0.7812 - val_loss: 0.6940 - val_accuracy: 0.5149\n",
            "Epoch 6/10\n",
            "13/13 [==============================] - 5s 396ms/step - loss: 0.3500 - accuracy: 0.8534 - val_loss: 0.3726 - val_accuracy: 0.8507\n",
            "Epoch 7/10\n",
            "13/13 [==============================] - 5s 392ms/step - loss: 0.1920 - accuracy: 0.9399 - val_loss: 0.2990 - val_accuracy: 0.8657\n",
            "Epoch 8/10\n",
            "13/13 [==============================] - 5s 394ms/step - loss: 0.1874 - accuracy: 0.9519 - val_loss: 0.3442 - val_accuracy: 0.8657\n",
            "Epoch 9/10\n",
            "13/13 [==============================] - 5s 392ms/step - loss: 0.1850 - accuracy: 0.9688 - val_loss: 0.2378 - val_accuracy: 0.8955\n",
            "Epoch 10/10\n",
            "13/13 [==============================] - 5s 390ms/step - loss: 0.1407 - accuracy: 0.9639 - val_loss: 0.2064 - val_accuracy: 0.9627\n"
          ],
          "name": "stdout"
        }
      ]
    },
    {
      "cell_type": "code",
      "metadata": {
        "id": "nYW-ji5o-6RK",
        "outputId": "e0a619ac-aa26-430c-cd21-80dcb58d45c4",
        "colab": {
          "base_uri": "https://localhost:8080/"
        }
      },
      "source": [
        "model.predict_classes(test_generator)"
      ],
      "execution_count": 11,
      "outputs": [
        {
          "output_type": "stream",
          "text": [
            "WARNING:tensorflow:From <ipython-input-11-e2096d1ad872>:1: Sequential.predict_classes (from tensorflow.python.keras.engine.sequential) is deprecated and will be removed after 2021-01-01.\n",
            "Instructions for updating:\n",
            "Please use instead:* `np.argmax(model.predict(x), axis=-1)`,   if your model does multi-class classification   (e.g. if it uses a `softmax` last-layer activation).* `(model.predict(x) > 0.5).astype(\"int32\")`,   if your model does binary classification   (e.g. if it uses a `sigmoid` last-layer activation).\n"
          ],
          "name": "stdout"
        },
        {
          "output_type": "execute_result",
          "data": {
            "text/plain": [
              "array([0, 0, 0, 0, 0, 0, 1, 1, 0, 0, 0, 1, 1, 0, 0, 0, 0, 0, 0, 0, 0, 0,\n",
              "       0, 0, 0, 0, 0, 1, 0, 1, 0, 1, 1, 0, 0, 0, 0, 0, 1, 0, 0, 0, 1, 0,\n",
              "       0, 0, 0, 0, 1, 1, 1, 1, 1, 1, 0, 0, 0, 0, 0, 1, 0, 1, 0, 0, 0, 0,\n",
              "       0, 0, 0, 1, 0, 1, 0, 1, 0, 1, 1, 0, 0, 1, 1, 1, 0, 0, 1, 0, 0, 0,\n",
              "       1, 0, 1, 0, 1, 0, 0, 0, 1, 1, 1, 0, 0, 1, 0, 0, 1, 1, 0, 1, 0, 0,\n",
              "       0, 0, 0, 0, 0, 0, 1, 0, 0, 0, 0, 0, 1, 0, 0, 0, 1, 0, 1, 0, 0, 0,\n",
              "       0, 1])"
            ]
          },
          "metadata": {
            "tags": []
          },
          "execution_count": 11
        }
      ]
    },
    {
      "cell_type": "code",
      "metadata": {
        "id": "ZVwQBbrH-6RQ"
      },
      "source": [
        "acc = hist.history['accuracy']\n",
        "val_acc = hist.history['val_accuracy']\n",
        "\n",
        "loss = hist.history['loss']\n",
        "val_loss = hist.history['val_loss']"
      ],
      "execution_count": 12,
      "outputs": []
    },
    {
      "cell_type": "code",
      "metadata": {
        "id": "uOLNCuIt-6Rc",
        "outputId": "a4750ec5-688f-41d2-8547-1a8fdfd13de4",
        "colab": {
          "base_uri": "https://localhost:8080/",
          "height": 349
        }
      },
      "source": [
        "plt.style.use('seaborn')\n",
        "plt.plot(acc,label='acc')\n",
        "plt.plot(val_acc,label='val_acc')\n",
        "plt.legend()\n",
        "plt.show()"
      ],
      "execution_count": 13,
      "outputs": [
        {
          "output_type": "display_data",
          "data": {
            "image/png": "[encoded data removed]",
            "text/plain": [
              "<Figure size 576x396 with 1 Axes>"
            ]
          },
          "metadata": {
            "tags": []
          }
        }
      ]
    },
    {
      "cell_type": "code",
      "metadata": {
        "id": "sDFaXRfw-6Rj",
        "outputId": "adebac95-1bc0-4ec1-8f32-3a8628efaf8a",
        "colab": {
          "base_uri": "https://localhost:8080/",
          "height": 347
        }
      },
      "source": [
        "plt.plot(loss,label='loss')\n",
        "plt.plot(val_loss,label='val_loss')\n",
        "plt.legend()\n",
        "plt.show()"
      ],
      "execution_count": 14,
      "outputs": [
        {
          "output_type": "display_data",
          "data": {
            "image/png": "[encoded data removed]",
            "text/plain": [
              "<Figure size 576x396 with 1 Axes>"
            ]
          },
          "metadata": {
            "tags": []
          }
        }
      ]
    },
    {
      "cell_type": "code",
      "metadata": {
        "id": "RKPu-Aa1-6Rq"
      },
      "source": [
        ""
      ],
      "execution_count": null,
      "outputs": []
    },
    {
      "cell_type": "code",
      "metadata": {
        "id": "u1CGucgm-6Rv"
      },
      "source": [
        ""
      ],
      "execution_count": null,
      "outputs": []
    },
    {
      "cell_type": "code",
      "metadata": {
        "id": "1LmaRNWE-6R1"
      },
      "source": [
        "img = image.load_img('./Dataset/Test/Uninfected/C3thin_original_IMG_20150608_162922_cell_145.png',target_size=(224,224,3))\n",
        "img = image.img_to_array(img)"
      ],
      "execution_count": 15,
      "outputs": []
    },
    {
      "cell_type": "code",
      "metadata": {
        "id": "CQgirgjaCTPs"
      },
      "source": [
        "img = img/255"
      ],
      "execution_count": 16,
      "outputs": []
    },
    {
      "cell_type": "code",
      "metadata": {
        "id": "6JqZOEfDCYh0",
        "outputId": "41ea452a-d307-4bcf-d8f6-0063b37a9d0c",
        "colab": {
          "base_uri": "https://localhost:8080/"
        }
      },
      "source": [
        "img = np.expand_dims(img,axis=0)\n",
        "img.shape"
      ],
      "execution_count": 17,
      "outputs": [
        {
          "output_type": "execute_result",
          "data": {
            "text/plain": [
              "(1, 224, 224, 3)"
            ]
          },
          "metadata": {
            "tags": []
          },
          "execution_count": 17
        }
      ]
    },
    {
      "cell_type": "code",
      "metadata": {
        "id": "XPIYkQuwCjEZ",
        "outputId": "38b1b755-27f5-4a7d-8bf2-a554d9e660ad",
        "colab": {
          "base_uri": "https://localhost:8080/"
        }
      },
      "source": [
        "model.predict_classes(img)"
      ],
      "execution_count": 19,
      "outputs": [
        {
          "output_type": "execute_result",
          "data": {
            "text/plain": [
              "array([1])"
            ]
          },
          "metadata": {
            "tags": []
          },
          "execution_count": 19
        }
      ]
    },
    {
      "cell_type": "code",
      "metadata": {
        "id": "BKUCjRXHCy9P"
      },
      "source": [
        ""
      ],
      "execution_count": null,
      "outputs": []
    }
  ]
}